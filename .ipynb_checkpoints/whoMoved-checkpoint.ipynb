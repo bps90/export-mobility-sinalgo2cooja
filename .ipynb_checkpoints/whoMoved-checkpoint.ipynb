{
 "cells": [
  {
   "cell_type": "code",
   "execution_count": 16,
   "metadata": {
    "collapsed": false
   },
   "outputs": [],
   "source": [
    "from __future__ import division\n",
    "import os"
   ]
  },
  {
   "cell_type": "code",
   "execution_count": 2,
   "metadata": {
    "collapsed": true
   },
   "outputs": [],
   "source": [
    "inFile = \"./logs/mobility2cooja_01-05-2017_20.39.33.136/mobilityLog.txt\"\n",
    "timeScape = 1200"
   ]
  },
  {
   "cell_type": "code",
   "execution_count": 3,
   "metadata": {
    "collapsed": true
   },
   "outputs": [],
   "source": [
    "nodesWhoMoved = set()"
   ]
  },
  {
   "cell_type": "code",
   "execution_count": 4,
   "metadata": {
    "collapsed": true
   },
   "outputs": [],
   "source": [
    "with open(inFile, \"r\") as myfile:\n",
    "    for l in myfile.readlines():\n",
    "        splited = l.split()\n",
    "        if float(splited[1]) > timeScape:\n",
    "            nodesWhoMoved.add(splited[0])\n",
    "        else:\n",
    "            continue\n",
    "            "
   ]
  },
  {
   "cell_type": "code",
   "execution_count": 19,
   "metadata": {
    "collapsed": false
   },
   "outputs": [],
   "source": [
    "myif = \"if(\"\n",
    "for node in nodesWhoMoved:\n",
    "    myif += \"linkaddr_node_addr.u8[0] == \"\n",
    "    myif += str(node)\n",
    "    myif += \" || \"\n",
    "myif += \"){\""
   ]
  },
  {
   "cell_type": "code",
   "execution_count": 22,
   "metadata": {
    "collapsed": false
   },
   "outputs": [],
   "source": [
    "with open(os.path.dirname(inFile)+\"/if-file.txt\", \"w\") as iffile:\n",
    "    iffile.write(myif)\n",
    "          "
   ]
  }
 ],
 "metadata": {
  "kernelspec": {
   "display_name": "Python 2",
   "language": "python",
   "name": "python2"
  },
  "language_info": {
   "codemirror_mode": {
    "name": "ipython",
    "version": 2
   },
   "file_extension": ".py",
   "mimetype": "text/x-python",
   "name": "python",
   "nbconvert_exporter": "python",
   "pygments_lexer": "ipython2",
   "version": "2.7.9"
  }
 },
 "nbformat": 4,
 "nbformat_minor": 0
}
