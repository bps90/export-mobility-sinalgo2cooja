{
 "cells": [
  {
   "cell_type": "code",
   "execution_count": 1,
   "metadata": {
    "collapsed": true
   },
   "outputs": [],
   "source": [
    "import optparse"
   ]
  },
  {
   "cell_type": "code",
   "execution_count": 2,
   "metadata": {
    "collapsed": false
   },
   "outputs": [],
   "source": [
    "parser = optparse.OptionParser()"
   ]
  },
  {
   "cell_type": "code",
   "execution_count": 3,
   "metadata": {
    "collapsed": false
   },
   "outputs": [
    {
     "data": {
      "text/plain": [
       "<Option at 0x7fd90e78d638: -o>"
      ]
     },
     "execution_count": 3,
     "metadata": {},
     "output_type": "execute_result"
    }
   ],
   "source": [
    "parser.add_option(\"-i\", \n",
    "                  dest=\"coojainput\", \n",
    "                  help=\"Input cooja mobility trace\", \n",
    "                  metavar=\"IN_FILE\", \n",
    "                  default=\"coojaIn.txt\")\n",
    "\n",
    "parser.add_option(\"-n\", \n",
    "                  dest=\"numNodes\",\n",
    "                  help=\"# nodes in the cooja trace\", \n",
    "                  metavar=\"N_NODES\", \n",
    "                  type=int, \n",
    "                  default=30)\n",
    "\n",
    "parser.add_option(\"-o\", \n",
    "                  dest=\"bonnoutput\",\n",
    "                  help=\"Input cooja mobility trace\", \n",
    "                  metavar=\"OUT_FILE\", \n",
    "                  default=\"bonnout.moviments\")\n",
    "\n"
   ]
  },
  {
   "cell_type": "code",
   "execution_count": 4,
   "metadata": {
    "collapsed": false
   },
   "outputs": [],
   "source": [
    "#(opts, args) = parser.parser_args()\n",
    "teste_args = [\"-i\", \"coojaIn.txt\", \"-n\", \"30\", \"-o\", \"bonnOut.moviments\"]\n",
    "(opts, args) = parser.parse_args(teste_args)"
   ]
  },
  {
   "cell_type": "code",
   "execution_count": 5,
   "metadata": {
    "collapsed": false
   },
   "outputs": [
    {
     "data": {
      "text/plain": [
       "{}"
      ]
     },
     "execution_count": 5,
     "metadata": {},
     "output_type": "execute_result"
    }
   ],
   "source": [
    "track_node_by_line = {}\n",
    "track_node_by_line"
   ]
  },
  {
   "cell_type": "code",
   "execution_count": 6,
   "metadata": {
    "collapsed": false
   },
   "outputs": [],
   "source": [
    "def buildTrackNodes():\n",
    "    with open(opts.coojainput, \"r\") as cooja_in_file:\n",
    "        for line in cooja_in_file.readlines():\n",
    "            l = line.split()\n",
    "            nodeID = int(l[0])\n",
    "            time = l[1]\n",
    "            xCoord = l[2]\n",
    "            yCoord = l[3]\n",
    "            if(nodeID in track_node_by_line.keys()):\n",
    "                track_node_by_line[nodeID] += time + \" \" + xCoord + \" \" + yCoord + \" \"\n",
    "            else:\n",
    "                track_node_by_line[nodeID] = time + \" \" + xCoord + \" \" + yCoord + \" \""
   ]
  },
  {
   "cell_type": "code",
   "execution_count": 7,
   "metadata": {
    "collapsed": false
   },
   "outputs": [],
   "source": [
    "def writeBonnMobilityFile():\n",
    "    sorted_keys = sorted(track_node_by_line.keys())\n",
    "    with open(opts.bonnoutput, \"w\") as bonn_out_file:\n",
    "        for key in sorted_keys:\n",
    "            bonn_out_file.write(track_node_by_line[key]+\"\\n\")"
   ]
  },
  {
   "cell_type": "code",
   "execution_count": 8,
   "metadata": {
    "collapsed": false
   },
   "outputs": [],
   "source": [
    "buildTrackNodes()"
   ]
  },
  {
   "cell_type": "code",
   "execution_count": 9,
   "metadata": {
    "collapsed": false
   },
   "outputs": [],
   "source": [
    "writeBonnMobilityFile()"
   ]
  }
 ],
 "metadata": {
  "kernelspec": {
   "display_name": "Python 2",
   "language": "python",
   "name": "python2"
  },
  "language_info": {
   "codemirror_mode": {
    "name": "ipython",
    "version": 2
   },
   "file_extension": ".py",
   "mimetype": "text/x-python",
   "name": "python",
   "nbconvert_exporter": "python",
   "pygments_lexer": "ipython2",
   "version": "2.7.6"
  }
 },
 "nbformat": 4,
 "nbformat_minor": 1
}
